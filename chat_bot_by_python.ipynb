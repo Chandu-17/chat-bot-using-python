{
  "nbformat": 4,
  "nbformat_minor": 0,
  "metadata": {
    "colab": {
      "name": "chat bot by python.ipynb",
      "provenance": [],
      "collapsed_sections": [],
      "include_colab_link": true
    },
    "kernelspec": {
      "name": "python3",
      "display_name": "Python 3"
    },
    "language_info": {
      "name": "python"
    }
  },
  "cells": [
    {
      "cell_type": "markdown",
      "metadata": {
        "id": "view-in-github",
        "colab_type": "text"
      },
      "source": [
        "<a href=\"https://colab.research.google.com/github/Chandu-17/chat-bot-using-python/blob/main/chat_bot_by_python.ipynb\" target=\"_parent\"><img src=\"https://colab.research.google.com/assets/colab-badge.svg\" alt=\"Open In Colab\"/></a>"
      ]
    },
    {
      "cell_type": "code",
      "metadata": {
        "id": "9Rjrg1M_yuhd"
      },
      "source": [
        "%pip install chatterbot\n",
        "%pip install chatterbot_corpus"
      ],
      "execution_count": null,
      "outputs": []
    },
    {
      "cell_type": "code",
      "metadata": {
        "colab": {
          "base_uri": "https://localhost:8080/"
        },
        "id": "gqvIdu_Pi6C0",
        "outputId": "0ebae05e-d62e-40a7-9a11-4d8cc12136bc"
      },
      "source": [
        "from chatterbot import ChatBot\n",
        "from chatterbot.trainers import ListTrainer\n",
        "print(\"Required modules are succesfully installed....\")"
      ],
      "execution_count": null,
      "outputs": [
        {
          "output_type": "stream",
          "text": [
            "Required modules are succesfully installed....\n"
          ],
          "name": "stdout"
        }
      ]
    },
    {
      "cell_type": "code",
      "metadata": {
        "id": "JAUnR0C5i6xv"
      },
      "source": [
        "my_bot = ChatBot (name = 'My Bot', read_only = True,\n",
        "                  logic_adapters = ['chatterbot.logic.MathematicalEvaluation',\n",
        "                                    'chatterbot.logic.BestMatch'])"
      ],
      "execution_count": null,
      "outputs": []
    },
    {
      "cell_type": "code",
      "metadata": {
        "id": "VsGf16zs0Zea"
      },
      "source": [
        "talk1 = ['hello !',\n",
        "              'hii... !',\n",
        "              'how do u do ... ?',\n",
        "              'Cool as always'\n",
        "              'how are you?',\n",
        "              'i\\'m cool.',\n",
        "              'fine, you?',\n",
        "              'always cool.',\n",
        "              'i\\'m ok',\n",
        "              'glad to hear that.',\n",
        "              'i\\'m fine',\n",
        "              'glad to hear that.',\n",
        "              'i feel awesome',\n",
        "              'excellent, glad to hear that.',\n",
        "              'good',\n",
        "              'Thats awesome to hear'\n",
        "              'not so good',\n",
        "              'sorry to hear that.',\n",
        "              'I need your assistance regarding my order',\n",
        "              'Please, Provide me with your order id',\n",
        "              'I have a complaint.',\n",
        "              'Please elaborate, your concern',\n",
        "              'How long it will take to receive an order ?',\n",
        "              'An order takes 3-5 Business days to get delivered.',\n",
        "              'The product delivered is damaged',]"
      ],
      "execution_count": null,
      "outputs": []
    },
    {
      "cell_type": "code",
      "metadata": {
        "id": "o_AUHCCT0Z8c"
      },
      "source": [
        "talk2 =  ['pythagorean theorem',\n",
        "               'a squared plus b squared equals c squared.']"
      ],
      "execution_count": null,
      "outputs": []
    },
    {
      "cell_type": "code",
      "metadata": {
        "colab": {
          "base_uri": "https://localhost:8080/"
        },
        "id": "U-PPVm8z3jwZ",
        "outputId": "bf8ac88b-bd0a-4750-f056-c457ad02cea8"
      },
      "source": [
        "list_trainer = ListTrainer(my_bot)\n",
        "for item in (talk1, talk2):\n",
        "    list_trainer.train(item)\n",
        "print(\"Training of chatbot is completed\")"
      ],
      "execution_count": null,
      "outputs": [
        {
          "output_type": "stream",
          "text": [
            "List Trainer: [####################] 100%\n",
            "List Trainer: [####################] 100%\n",
            "Training of chatbot is completed\n"
          ],
          "name": "stdout"
        }
      ]
    },
    {
      "cell_type": "code",
      "metadata": {
        "colab": {
          "base_uri": "https://localhost:8080/"
        },
        "id": "vFULJ26Q4QWp",
        "outputId": "17efdd5f-b2a4-4acb-b62e-3477464c6cfb"
      },
      "source": [
        "print(my_bot.get_response(\"how ar u ?\"))"
      ],
      "execution_count": null,
      "outputs": [
        {
          "output_type": "stream",
          "text": [
            "pythagorean theorem\n"
          ],
          "name": "stdout"
        }
      ]
    },
    {
      "cell_type": "code",
      "metadata": {
        "colab": {
          "base_uri": "https://localhost:8080/"
        },
        "id": "fPD2IZlI4vFs",
        "outputId": "4f57c6d5-7b89-48cd-9727-168723cfb29c"
      },
      "source": [
        "print(my_bot.get_response(\"hii\"))"
      ],
      "execution_count": null,
      "outputs": [
        {
          "output_type": "stream",
          "text": [
            "how do u do ... ?\n"
          ],
          "name": "stdout"
        }
      ]
    },
    {
      "cell_type": "code",
      "metadata": {
        "colab": {
          "base_uri": "https://localhost:8080/"
        },
        "id": "avwaM2RR5Ase",
        "outputId": "815fceb4-3bb7-4c7c-8530-17d649ccd4db"
      },
      "source": [
        "print(my_bot.get_response(\"excuse me\"))"
      ],
      "execution_count": null,
      "outputs": [
        {
          "output_type": "stream",
          "text": [
            "i feel awesome\n"
          ],
          "name": "stdout"
        }
      ]
    },
    {
      "cell_type": "code",
      "metadata": {
        "colab": {
          "base_uri": "https://localhost:8080/"
        },
        "id": "r5emPVHf5SE1",
        "outputId": "8c3bd5a5-f807-4f1c-cc03-c3e599ba66d0"
      },
      "source": [
        "print(my_bot.get_response(\"how are you?\"))"
      ],
      "execution_count": null,
      "outputs": [
        {
          "output_type": "stream",
          "text": [
            "i'm ok\n"
          ],
          "name": "stdout"
        }
      ]
    },
    {
      "cell_type": "code",
      "metadata": {
        "id": "l6EWa7g55kZB",
        "colab": {
          "base_uri": "https://localhost:8080/"
        },
        "outputId": "c8ab0f85-55b2-4721-aa5d-1ae2897d9be9"
      },
      "source": [
        "name=input(\"Enter Your Name: \")\n",
        "print(\"Hey welcome \" + name + \"! Let's chat!!!\")\n",
        "while True:\n",
        "    request=input(name+':')\n",
        "    if request=='Bye' or request =='bye':\n",
        "        print('Bot: Ok Bye. See you then!!')\n",
        "        break\n",
        "    else:\n",
        "        response=my_bot.get_response(request)\n",
        "        print('Bot:',response)"
      ],
      "execution_count": null,
      "outputs": [
        {
          "output_type": "stream",
          "text": [
            "Enter Your Name: Chandu\n",
            "Hey welcome Chandu! Let's chat!!!\n",
            "Chandu:hii\n",
            "Bot: how do u do ... ?\n",
            "Chandu:fine\n",
            "Bot: glad to hear that.\n",
            "Chandu:bye\n",
            "Bot: Ok Bye. See you then!!\n"
          ],
          "name": "stdout"
        }
      ]
    },
    {
      "cell_type": "markdown",
      "metadata": {
        "id": "WU-4Gj0R8zA9"
      },
      "source": [
        "***CHATBOT CORPUS***"
      ]
    },
    {
      "cell_type": "code",
      "metadata": {
        "colab": {
          "base_uri": "https://localhost:8080/"
        },
        "id": "qGQqMDmp6KqS",
        "outputId": "6c2dfe44-4e70-4029-cbcc-8a64624c47a2"
      },
      "source": [
        "from chatterbot.trainers import ChatterBotCorpusTrainer\n",
        "corpus_trainer = ChatterBotCorpusTrainer(my_bot)\n",
        "corpus_trainer.train('chatterbot.corpus.english')"
      ],
      "execution_count": null,
      "outputs": [
        {
          "output_type": "stream",
          "text": [
            "Training ai.yml: [####################] 100%\n",
            "Training botprofile.yml: [####################] 100%\n",
            "Training computers.yml: [####################] 100%\n",
            "Training conversations.yml: [####################] 100%\n",
            "Training emotion.yml: [####################] 100%\n",
            "Training food.yml: [####################] 100%\n",
            "Training gossip.yml: [####################] 100%\n",
            "Training greetings.yml: [####################] 100%\n",
            "Training health.yml: [####################] 100%\n",
            "Training history.yml: [####################] 100%\n",
            "Training humor.yml: [####################] 100%\n",
            "Training literature.yml: [####################] 100%\n",
            "Training money.yml: [####################] 100%\n",
            "Training movies.yml: [####################] 100%\n",
            "Training politics.yml: [####################] 100%\n",
            "Training psychology.yml: [####################] 100%\n",
            "Training science.yml: [####################] 100%\n",
            "Training sports.yml: [####################] 100%\n",
            "Training trivia.yml: [####################] 100%\n"
          ],
          "name": "stdout"
        }
      ]
    },
    {
      "cell_type": "code",
      "metadata": {
        "colab": {
          "base_uri": "https://localhost:8080/"
        },
        "id": "8uE1g3cN82bN",
        "outputId": "2748d5b4-1af2-44fa-adf1-387a93650998"
      },
      "source": [
        "name=input(\"Enter Your Name: \")\n",
        "print(\"Welcome to the Bot chitchat! Let me know how can I help you?\")\n",
        "while True:\n",
        "    request=input(name+':')\n",
        "    if request=='Bye' or request =='bye':\n",
        "        print('Bot: Bye')\n",
        "        break\n",
        "    else:\n",
        "        response=my_bot.get_response(request)\n",
        "        print('Bot:',response)"
      ],
      "execution_count": null,
      "outputs": [
        {
          "output_type": "stream",
          "text": [
            "Enter Your Name: chandu\n",
            "Welcome to the Bot chitchat! Let me know how can I help you?\n",
            "chandu:I luv u\n",
            "Bot: Although practicality beats purity.\n",
            "chandu:Bye\n",
            "Bot: Bye\n"
          ],
          "name": "stdout"
        }
      ]
    }
  ]
}